{
  "nbformat": 4,
  "nbformat_minor": 0,
  "metadata": {
    "colab": {
      "name": "Homework_04.ipynb",
      "provenance": [],
      "collapsed_sections": []
    },
    "coursera": {
      "course_slug": "neural-networks-deep-learning",
      "graded_item_id": "XaIWT",
      "launcher_item_id": "zAgPl"
    },
    "kernelspec": {
      "display_name": "Python 3",
      "language": "python",
      "name": "python3"
    },
    "language_info": {
      "codemirror_mode": {
        "name": "ipython",
        "version": 3
      },
      "file_extension": ".py",
      "mimetype": "text/x-python",
      "name": "python",
      "nbconvert_exporter": "python",
      "pygments_lexer": "ipython3",
      "version": "3.8.3"
    },
    "accelerator": "GPU"
  },
  "cells": [
    {
      "cell_type": "markdown",
      "metadata": {
        "id": "1LwvvMtG18SK"
      },
      "source": [
        "# Recurrent Neural Network Homework\n",
        "\n",
        "This is the 4th assignment for CAP 4630 and we will implement a basic RNN network and an LSTM network with Keras to solve two problems. \\\n",
        "You will use **\"Tasks\"** and **\"Hints\"** to finish the work. **(Total points 85, plus 15 bonus points)** \\\n",
        "You may use Machine Learning libaries like Scikit-learn for data preprocessing.\n",
        "\n",
        "**Task Overview:**\n",
        "- Implement a basic RNN network to solve time series prediction \n",
        "- Implement an LSTM network to conduct sentiment analysis"
      ]
    },
    {
      "cell_type": "markdown",
      "metadata": {
        "id": "l24oSrIK18SL"
      },
      "source": [
        "## 1 - Implement Basic RNN network with Keras to predict time series##\n",
        "### 1.1 Prepare the data (17 Points)\n",
        "\n",
        "Prepare time series data for deep neural network training.\n",
        "\n",
        "**Tasks:**\n",
        "1. Load the given train and test data: \"train.txt\" and \"test.txt\". **(5 Points)**\n",
        "2. Generate the **TRAIN** and **TEST** labels. **(5 Points)**\n",
        "2. Normalize the **TRAIN** and **TEST** data with sklearn function \"MinMaxScaler\". **(5 Points)**\n",
        "3. Print out the **TEST** data and label. **(2 Points)**\n",
        "\n",
        "**Hints:**  \n",
        "1. The length of original train data is 113 which starts from **\"1949-01\"** to **\"1958-05\"**. The length of original test data is 29, which starts from **\"1958-07\"** to **\"1960-11\"**. \n",
        "2. Set the data types of both train and test data to \"float32\". \n",
        "3. When you prepared input data X (sequences) and oupt data Y (labels), please consider the following relationship:\n",
        "    - The sequence X should be the **past 12** datapoints in the time series, i.e., observation sequence with historical window of 12. You may check the time series data and think about the reason.\n",
        "    - The label Y should be the **next 1** datapoint in the time series (one point ahead prediction).\n",
        "4. The first 3 train data and label should be:\n",
        "\n",
        "trainX[0] = [[0.5801282 &nbsp; 0.625 &nbsp; 0.30128205 &nbsp;0.15705132 &nbsp;0. &nbsp; 0.08653843 &nbsp; 0.16025639 &nbsp; 0.1025641 &nbsp; 0.3076923 &nbsp; 0.27564108 &nbsp;0.3525641 &nbsp; 0.5192307]]\\\n",
        "trainY[0] = [0.7628205]\n",
        "\n",
        "trainX[1] = [[0.625   &nbsp;   0.30128205&nbsp; 0.15705132&nbsp; 0.   &nbsp;      0.08653843 &nbsp;0.16025639&nbsp; 0.1025641 &nbsp; 0. &nbsp;3076923&nbsp; 0.27564108 &nbsp;0.3525641&nbsp;  0.5192307&nbsp;  0.7628205 ]]\\\n",
        "trainY[1] = [0.798077]\n",
        "\n",
        "trainX[2] =  [[0.30128205 &nbsp; 0.15705132 &nbsp; 0.   &nbsp;   0.&nbsp; 08653843&nbsp;0.16025639&nbsp;0.1025641 &nbsp; 0.3076923 &nbsp;0.27564108 &nbsp;0.3525641 &nbsp; 0.5192307 &nbsp;0.7628205 &nbsp; 0.798077]]\\\n",
        "trainY[2] = [0.49038458]\n",
        "\n",
        "5. Apply the MinMaxScaler to both the train and test data.\\\n",
        "https://scikit-learn.org/stable/modules/generated/sklearn.preprocessing.MinMaxScaler.html\n",
        "\n",
        "\n",
        "6. After the preparation with scaler fitting, the shapes of trainX, trainY, testX, and testY are as follows:\\\n",
        "trainX.shape = (101, 1, 12)\\\n",
        "trainY.shape = (101,)\\\n",
        "testX.shape = (17, 1, 12)\\\n",
        "testY.shape = (17,)"
      ]
    },
    {
      "cell_type": "code",
      "metadata": {
        "id": "hS7xhrC3-_-1"
      },
      "source": [
        "### Import Libraries ###\n",
        "\n",
        "import tensorflow as tf\n",
        "import tensorflow.keras as keras\n",
        "import tensorflow.keras.layers \n",
        "import random\n",
        "import numpy as np\n",
        "import matplotlib.pyplot as plt\n",
        "\n",
        "### Set random seed to ensure deterministic results\n",
        "import os\n",
        "seed_value = 1\n",
        "os.environ['PYTHONHASHSEED']=str(seed_value)\n",
        "def reset_random_seeds():\n",
        "   tf.random.set_seed(seed_value)\n",
        "   np.random.seed(seed_value)\n",
        "   random.seed(seed_value)\n",
        "reset_random_seeds()"
      ],
      "execution_count": null,
      "outputs": []
    },
    {
      "cell_type": "code",
      "metadata": {
        "id": "shAj2Y6IuxUv"
      },
      "source": [
        "### Prepare and Preprocess Data Here ###\n",
        "\n",
        "from pandas import read_csv\n",
        "\n",
        "### Design a Function to Prepare Observation Sequences and Corresponding Labels ###\n",
        "\n",
        "def create_dataset(dataset, look_back=12): # look_back is used to specify input sequence length\n",
        "    dataX, dataY = [], []\n",
        "    for i in range(len(dataset)-look_back):\n",
        "        dataX.append(dataset[i:(i + look_back)]) # make sure correct start and end elements\n",
        "        dataY.append(dataset[i + look_back]) # make sure correct start and end elements; here, we have only one point ahead for prediction\n",
        "    return np.array(dataX), np.array(dataY)\n",
        "\n",
        "\n",
        "### Train and Test Data Loading with float32 type ####\n",
        "\n",
        "dataframe_test = read_csv('test.txt',\n",
        "                          index_col='Month', header=0)\n",
        "dataset_test = dataframe_test.values\n",
        "dataset_test = dataset_test.astype('float32')\n",
        "\n",
        "dataframe_train = read_csv('train.txt',\n",
        "                         index_col='Month', header=0)\n",
        "dataset_train = dataframe_train.values\n",
        "dataset_train = dataset_train.astype('float32')"
      ],
      "execution_count": null,
      "outputs": []
    },
    {
      "cell_type": "code",
      "metadata": {
        "id": "O8MlgYTvvIeD"
      },
      "source": [
        "from sklearn.preprocessing import MinMaxScaler\n",
        "\n",
        "### Scale Training and Test Data to [0, 1] ###\n",
        "\n",
        "scaler = MinMaxScaler(feature_range=(0, 1)) # specify the scaler\n",
        "train = scaler.fit_transform(dataset_train) # fit the scaler to the training data\n",
        "test = scaler.fit_transform(dataset_test) # fit the scaler to the test data"
      ],
      "execution_count": null,
      "outputs": []
    },
    {
      "cell_type": "code",
      "metadata": {
        "id": "Q2iyyNQMshVD"
      },
      "source": [
        "### Train and Test Data Split\n",
        "\n",
        "trainX, trainY = create_dataset(train, look_back=12) # historical window is 12; future window is 1.\n",
        "testX, testY = create_dataset(test, look_back=12)\n",
        "\n",
        "### Train and Test Data Reshape (to fit RNN input)\n",
        "\n",
        "trainX = np.reshape(trainX, (trainX.shape[0], 1, trainX.shape[1])) \n",
        "testX = np.reshape(testX, (testX.shape[0], 1, testX.shape[1]))"
      ],
      "execution_count": null,
      "outputs": []
    },
    {
      "cell_type": "code",
      "metadata": {
        "id": "AQ1uHWzX8wlH",
        "colab": {
          "base_uri": "https://localhost:8080/"
        },
        "outputId": "58f0824e-5fae-4999-81d7-f51a5238c801"
      },
      "source": [
        "# print out the test data and label here\n",
        "\n",
        "print(testX)\n",
        "print(testY)"
      ],
      "execution_count": null,
      "outputs": [
        {
          "output_type": "stream",
          "text": [
            "[[[0.5801282  0.625      0.30128205 0.15705132 0.         0.08653843\n",
            "   0.16025639 0.1025641  0.3076923  0.27564108 0.3525641  0.5192307 ]]\n",
            "\n",
            " [[0.625      0.30128205 0.15705132 0.         0.08653843 0.16025639\n",
            "   0.1025641  0.3076923  0.27564108 0.3525641  0.5192307  0.7628205 ]]\n",
            "\n",
            " [[0.30128205 0.15705132 0.         0.08653843 0.16025639 0.1025641\n",
            "   0.3076923  0.27564108 0.3525641  0.5192307  0.7628205  0.798077  ]]\n",
            "\n",
            " [[0.15705132 0.         0.08653843 0.16025639 0.1025641  0.3076923\n",
            "   0.27564108 0.3525641  0.5192307  0.7628205  0.798077   0.49038458]]\n",
            "\n",
            " [[0.         0.08653843 0.16025639 0.1025641  0.3076923  0.27564108\n",
            "   0.3525641  0.5192307  0.7628205  0.798077   0.49038458 0.31089747]]\n",
            "\n",
            " [[0.08653843 0.16025639 0.1025641  0.3076923  0.27564108 0.3525641\n",
            "   0.5192307  0.7628205  0.798077   0.49038458 0.31089747 0.16666663]]\n",
            "\n",
            " [[0.16025639 0.1025641  0.3076923  0.27564108 0.3525641  0.5192307\n",
            "   0.7628205  0.798077   0.49038458 0.31089747 0.16666663 0.30448723]]\n",
            "\n",
            " [[0.1025641  0.3076923  0.27564108 0.3525641  0.5192307  0.7628205\n",
            "   0.798077   0.49038458 0.31089747 0.16666663 0.30448723 0.34294868]]\n",
            "\n",
            " [[0.3076923  0.27564108 0.3525641  0.5192307  0.7628205  0.798077\n",
            "   0.49038458 0.31089747 0.16666663 0.30448723 0.34294868 0.25961542]]\n",
            "\n",
            " [[0.27564108 0.3525641  0.5192307  0.7628205  0.798077   0.49038458\n",
            "   0.31089747 0.16666663 0.30448723 0.34294868 0.25961542 0.34935904]]\n",
            "\n",
            " [[0.3525641  0.5192307  0.7628205  0.798077   0.49038458 0.31089747\n",
            "   0.16666663 0.30448723 0.34294868 0.25961542 0.34935904 0.48397434]]\n",
            "\n",
            " [[0.5192307  0.7628205  0.798077   0.49038458 0.31089747 0.16666663\n",
            "   0.30448723 0.34294868 0.25961542 0.34935904 0.48397434 0.5192307 ]]\n",
            "\n",
            " [[0.7628205  0.798077   0.49038458 0.31089747 0.16666663 0.30448723\n",
            "   0.34294868 0.25961542 0.34935904 0.48397434 0.5192307  0.72115386]]\n",
            "\n",
            " [[0.798077   0.49038458 0.31089747 0.16666663 0.30448723 0.34294868\n",
            "   0.25961542 0.34935904 0.48397434 0.5192307  0.72115386 1.        ]]\n",
            "\n",
            " [[0.49038458 0.31089747 0.16666663 0.30448723 0.34294868 0.25961542\n",
            "   0.34935904 0.48397434 0.5192307  0.72115386 1.         0.94871795]]\n",
            "\n",
            " [[0.31089747 0.16666663 0.30448723 0.34294868 0.25961542 0.34935904\n",
            "   0.48397434 0.5192307  0.72115386 1.         0.94871795 0.6346154 ]]\n",
            "\n",
            " [[0.16666663 0.30448723 0.34294868 0.25961542 0.34935904 0.48397434\n",
            "   0.5192307  0.72115386 1.         0.94871795 0.6346154  0.48397434]]]\n",
            "[[0.7628205 ]\n",
            " [0.798077  ]\n",
            " [0.49038458]\n",
            " [0.31089747]\n",
            " [0.16666663]\n",
            " [0.30448723]\n",
            " [0.34294868]\n",
            " [0.25961542]\n",
            " [0.34935904]\n",
            " [0.48397434]\n",
            " [0.5192307 ]\n",
            " [0.72115386]\n",
            " [1.        ]\n",
            " [0.94871795]\n",
            " [0.6346154 ]\n",
            " [0.48397434]\n",
            " [0.25641024]]\n"
          ],
          "name": "stdout"
        }
      ]
    },
    {
      "cell_type": "markdown",
      "metadata": {
        "id": "0AlakqA_vuFb"
      },
      "source": [
        "### 1.2 - Build the RNN model (20 Points) ##\n",
        "\n",
        "\n",
        "Build an RNN model with SimpleRNN cell. \n",
        "\n",
        "**Tasks:**\n",
        "1. Build an RNN model with 1 RNN layer and 1 Dense layer.  **(10 Points)**\n",
        "2. Compile the model. **(5 Points)**\n",
        "3. Train the model for 100 epochs with **batch_size = 10**. **(5 Points)**\n",
        "\n",
        "**Hints:**  \n",
        "1. You may consider **tensorflow.keras.layers.SimpleRNN(unit_size=4)** to specify RNN cells.\n",
        "2. Use loss function = 'mean_squared_error' and select **Adam** optimizer with **learning_rate=0.01** and other default settings.\n",
        "3. After first epoch, the train loss is changed to around **0.0656**. \n"
      ]
    },
    {
      "cell_type": "code",
      "metadata": {
        "id": "Jn92qh8oyq0B"
      },
      "source": [
        "### Build the RNN Model ###\n",
        "import keras\n",
        "from keras.models import Sequential\n",
        "\n",
        "keras.backend.clear_session()\n",
        "\n",
        "model = Sequential() # Declare Sequential class and assign it to variable \"model\"\n",
        "model.add(keras.layers.SimpleRNN(units=4)) # Add a simple RNN layer with unit_size=4 in the model \n",
        "model.add(keras.layers.Dense(units=1)) # Add a following Dense layer with units=1 in the model "
      ],
      "execution_count": null,
      "outputs": []
    },
    {
      "cell_type": "code",
      "metadata": {
        "id": "GnO-5WT-3hgH"
      },
      "source": [
        "### Compile the RNN model ###\n",
        "\n",
        "opt = keras.optimizers.Adam(learning_rate=0.01)\n",
        "model.compile(loss=keras.losses.MeanSquaredError(), optimizer=opt,\n",
        "              metrics=['accuracy']) # model compiled with mean_squared_error loss and adam optimizer"
      ],
      "execution_count": null,
      "outputs": []
    },
    {
      "cell_type": "code",
      "metadata": {
        "id": "6tpZAutlzify",
        "colab": {
          "base_uri": "https://localhost:8080/"
        },
        "outputId": "f2f9ab7d-e6d6-4abc-a541-f18398d3ba2d"
      },
      "source": [
        "### Train the RNN model and PRINT OUT MODEL STRUCTURE with model.summary() ###\n",
        "\n",
        "# model fit with epoch=100, batch_size=10; verbose=2 is optional.\n",
        "model.fit(trainX, trainY, epochs=100, batch_size=10)\n",
        "model.summary() # print out model structure with model.summary()"
      ],
      "execution_count": null,
      "outputs": [
        {
          "output_type": "stream",
          "text": [
            "Epoch 1/100\n",
            "11/11 [==============================] - 0s 3ms/step - loss: 0.0656 - accuracy: 0.0099\n",
            "Epoch 2/100\n",
            "11/11 [==============================] - 0s 3ms/step - loss: 0.0340 - accuracy: 0.0099\n",
            "Epoch 3/100\n",
            "11/11 [==============================] - 0s 3ms/step - loss: 0.0215 - accuracy: 0.0000e+00\n",
            "Epoch 4/100\n",
            "11/11 [==============================] - 0s 3ms/step - loss: 0.0144 - accuracy: 0.0099\n",
            "Epoch 5/100\n",
            "11/11 [==============================] - 0s 3ms/step - loss: 0.0125 - accuracy: 0.0099\n",
            "Epoch 6/100\n",
            "11/11 [==============================] - 0s 3ms/step - loss: 0.0115 - accuracy: 0.0099\n",
            "Epoch 7/100\n",
            "11/11 [==============================] - 0s 3ms/step - loss: 0.0092 - accuracy: 0.0099\n",
            "Epoch 8/100\n",
            "11/11 [==============================] - 0s 3ms/step - loss: 0.0080 - accuracy: 0.0099\n",
            "Epoch 9/100\n",
            "11/11 [==============================] - 0s 3ms/step - loss: 0.0068 - accuracy: 0.0099\n",
            "Epoch 10/100\n",
            "11/11 [==============================] - 0s 3ms/step - loss: 0.0056 - accuracy: 0.0099\n",
            "Epoch 11/100\n",
            "11/11 [==============================] - 0s 3ms/step - loss: 0.0047 - accuracy: 0.0099\n",
            "Epoch 12/100\n",
            "11/11 [==============================] - 0s 3ms/step - loss: 0.0055 - accuracy: 0.0099\n",
            "Epoch 13/100\n",
            "11/11 [==============================] - 0s 3ms/step - loss: 0.0035 - accuracy: 0.0099\n",
            "Epoch 14/100\n",
            "11/11 [==============================] - 0s 3ms/step - loss: 0.0035 - accuracy: 0.0099\n",
            "Epoch 15/100\n",
            "11/11 [==============================] - 0s 3ms/step - loss: 0.0034 - accuracy: 0.0099\n",
            "Epoch 16/100\n",
            "11/11 [==============================] - 0s 3ms/step - loss: 0.0037 - accuracy: 0.0099\n",
            "Epoch 17/100\n",
            "11/11 [==============================] - 0s 3ms/step - loss: 0.0028 - accuracy: 0.0099\n",
            "Epoch 18/100\n",
            "11/11 [==============================] - 0s 3ms/step - loss: 0.0029 - accuracy: 0.0099\n",
            "Epoch 19/100\n",
            "11/11 [==============================] - 0s 3ms/step - loss: 0.0029 - accuracy: 0.0099\n",
            "Epoch 20/100\n",
            "11/11 [==============================] - 0s 3ms/step - loss: 0.0029 - accuracy: 0.0099\n",
            "Epoch 21/100\n",
            "11/11 [==============================] - 0s 3ms/step - loss: 0.0022 - accuracy: 0.0099\n",
            "Epoch 22/100\n",
            "11/11 [==============================] - 0s 4ms/step - loss: 0.0022 - accuracy: 0.0099\n",
            "Epoch 23/100\n",
            "11/11 [==============================] - 0s 3ms/step - loss: 0.0020 - accuracy: 0.0099\n",
            "Epoch 24/100\n",
            "11/11 [==============================] - 0s 3ms/step - loss: 0.0024 - accuracy: 0.0099\n",
            "Epoch 25/100\n",
            "11/11 [==============================] - 0s 3ms/step - loss: 0.0027 - accuracy: 0.0099\n",
            "Epoch 26/100\n",
            "11/11 [==============================] - 0s 4ms/step - loss: 0.0019 - accuracy: 0.0099\n",
            "Epoch 27/100\n",
            "11/11 [==============================] - 0s 3ms/step - loss: 0.0019 - accuracy: 0.0099    \n",
            "Epoch 28/100\n",
            "11/11 [==============================] - 0s 3ms/step - loss: 0.0018 - accuracy: 0.0099\n",
            "Epoch 29/100\n",
            "11/11 [==============================] - 0s 4ms/step - loss: 0.0018 - accuracy: 0.0099\n",
            "Epoch 30/100\n",
            "11/11 [==============================] - 0s 4ms/step - loss: 0.0017 - accuracy: 0.0099\n",
            "Epoch 31/100\n",
            "11/11 [==============================] - 0s 3ms/step - loss: 0.0016 - accuracy: 0.0099\n",
            "Epoch 32/100\n",
            "11/11 [==============================] - 0s 3ms/step - loss: 0.0015 - accuracy: 0.0099\n",
            "Epoch 33/100\n",
            "11/11 [==============================] - 0s 4ms/step - loss: 0.0015 - accuracy: 0.0099\n",
            "Epoch 34/100\n",
            "11/11 [==============================] - 0s 3ms/step - loss: 0.0015 - accuracy: 0.0099\n",
            "Epoch 35/100\n",
            "11/11 [==============================] - 0s 3ms/step - loss: 0.0016 - accuracy: 0.0099    \n",
            "Epoch 36/100\n",
            "11/11 [==============================] - 0s 3ms/step - loss: 0.0019 - accuracy: 0.0099    \n",
            "Epoch 37/100\n",
            "11/11 [==============================] - 0s 3ms/step - loss: 0.0019 - accuracy: 0.0099\n",
            "Epoch 38/100\n",
            "11/11 [==============================] - 0s 3ms/step - loss: 0.0018 - accuracy: 0.0099\n",
            "Epoch 39/100\n",
            "11/11 [==============================] - 0s 3ms/step - loss: 0.0019 - accuracy: 0.0099\n",
            "Epoch 40/100\n",
            "11/11 [==============================] - 0s 3ms/step - loss: 0.0016 - accuracy: 0.0099    \n",
            "Epoch 41/100\n",
            "11/11 [==============================] - 0s 3ms/step - loss: 0.0015 - accuracy: 0.0099\n",
            "Epoch 42/100\n",
            "11/11 [==============================] - 0s 3ms/step - loss: 0.0014 - accuracy: 0.0099    \n",
            "Epoch 43/100\n",
            "11/11 [==============================] - 0s 3ms/step - loss: 0.0014 - accuracy: 0.0099    \n",
            "Epoch 44/100\n",
            "11/11 [==============================] - 0s 3ms/step - loss: 0.0020 - accuracy: 0.0099\n",
            "Epoch 45/100\n",
            "11/11 [==============================] - 0s 3ms/step - loss: 0.0017 - accuracy: 0.0099\n",
            "Epoch 46/100\n",
            "11/11 [==============================] - 0s 3ms/step - loss: 0.0016 - accuracy: 0.0099\n",
            "Epoch 47/100\n",
            "11/11 [==============================] - 0s 3ms/step - loss: 0.0016 - accuracy: 0.0099\n",
            "Epoch 48/100\n",
            "11/11 [==============================] - 0s 3ms/step - loss: 0.0017 - accuracy: 0.0099    \n",
            "Epoch 49/100\n",
            "11/11 [==============================] - 0s 3ms/step - loss: 0.0016 - accuracy: 0.0099\n",
            "Epoch 50/100\n",
            "11/11 [==============================] - 0s 3ms/step - loss: 0.0014 - accuracy: 0.0099\n",
            "Epoch 51/100\n",
            "11/11 [==============================] - 0s 3ms/step - loss: 0.0016 - accuracy: 0.0099\n",
            "Epoch 52/100\n",
            "11/11 [==============================] - 0s 3ms/step - loss: 0.0020 - accuracy: 0.0099\n",
            "Epoch 53/100\n",
            "11/11 [==============================] - 0s 3ms/step - loss: 0.0014 - accuracy: 0.0099    \n",
            "Epoch 54/100\n",
            "11/11 [==============================] - 0s 3ms/step - loss: 0.0013 - accuracy: 0.0099\n",
            "Epoch 55/100\n",
            "11/11 [==============================] - 0s 3ms/step - loss: 0.0013 - accuracy: 0.0099\n",
            "Epoch 56/100\n",
            "11/11 [==============================] - 0s 3ms/step - loss: 0.0013 - accuracy: 0.0099    \n",
            "Epoch 57/100\n",
            "11/11 [==============================] - 0s 3ms/step - loss: 0.0013 - accuracy: 0.0099\n",
            "Epoch 58/100\n",
            "11/11 [==============================] - 0s 3ms/step - loss: 0.0013 - accuracy: 0.0099    \n",
            "Epoch 59/100\n",
            "11/11 [==============================] - 0s 3ms/step - loss: 0.0022 - accuracy: 0.0099\n",
            "Epoch 60/100\n",
            "11/11 [==============================] - 0s 3ms/step - loss: 0.0035 - accuracy: 0.0099\n",
            "Epoch 61/100\n",
            "11/11 [==============================] - 0s 3ms/step - loss: 0.0016 - accuracy: 0.0099\n",
            "Epoch 62/100\n",
            "11/11 [==============================] - 0s 3ms/step - loss: 0.0013 - accuracy: 0.0099    \n",
            "Epoch 63/100\n",
            "11/11 [==============================] - 0s 3ms/step - loss: 0.0013 - accuracy: 0.0099\n",
            "Epoch 64/100\n",
            "11/11 [==============================] - 0s 3ms/step - loss: 0.0013 - accuracy: 0.0099\n",
            "Epoch 65/100\n",
            "11/11 [==============================] - 0s 3ms/step - loss: 0.0013 - accuracy: 0.0099    \n",
            "Epoch 66/100\n",
            "11/11 [==============================] - 0s 3ms/step - loss: 0.0015 - accuracy: 0.0099\n",
            "Epoch 67/100\n",
            "11/11 [==============================] - 0s 3ms/step - loss: 0.0018 - accuracy: 0.0099\n",
            "Epoch 68/100\n",
            "11/11 [==============================] - 0s 3ms/step - loss: 0.0017 - accuracy: 0.0099    \n",
            "Epoch 69/100\n",
            "11/11 [==============================] - 0s 3ms/step - loss: 0.0023 - accuracy: 0.0099\n",
            "Epoch 70/100\n",
            "11/11 [==============================] - 0s 3ms/step - loss: 0.0024 - accuracy: 0.0099\n",
            "Epoch 71/100\n",
            "11/11 [==============================] - 0s 3ms/step - loss: 0.0013 - accuracy: 0.0099    \n",
            "Epoch 72/100\n",
            "11/11 [==============================] - 0s 3ms/step - loss: 0.0014 - accuracy: 0.0099\n",
            "Epoch 73/100\n",
            "11/11 [==============================] - 0s 3ms/step - loss: 0.0013 - accuracy: 0.0099\n",
            "Epoch 74/100\n",
            "11/11 [==============================] - 0s 3ms/step - loss: 0.0013 - accuracy: 0.0099    \n",
            "Epoch 75/100\n",
            "11/11 [==============================] - 0s 3ms/step - loss: 0.0012 - accuracy: 0.0099\n",
            "Epoch 76/100\n",
            "11/11 [==============================] - 0s 4ms/step - loss: 0.0013 - accuracy: 0.0099\n",
            "Epoch 77/100\n",
            "11/11 [==============================] - 0s 3ms/step - loss: 0.0013 - accuracy: 0.0099    \n",
            "Epoch 78/100\n",
            "11/11 [==============================] - 0s 3ms/step - loss: 0.0014 - accuracy: 0.0099\n",
            "Epoch 79/100\n",
            "11/11 [==============================] - 0s 3ms/step - loss: 0.0016 - accuracy: 0.0099\n",
            "Epoch 80/100\n",
            "11/11 [==============================] - 0s 3ms/step - loss: 0.0014 - accuracy: 0.0099\n",
            "Epoch 81/100\n",
            "11/11 [==============================] - 0s 3ms/step - loss: 0.0012 - accuracy: 0.0099    \n",
            "Epoch 82/100\n",
            "11/11 [==============================] - 0s 3ms/step - loss: 0.0012 - accuracy: 0.0099\n",
            "Epoch 83/100\n",
            "11/11 [==============================] - 0s 3ms/step - loss: 0.0014 - accuracy: 0.0099\n",
            "Epoch 84/100\n",
            "11/11 [==============================] - 0s 3ms/step - loss: 0.0020 - accuracy: 0.0099\n",
            "Epoch 85/100\n",
            "11/11 [==============================] - 0s 3ms/step - loss: 0.0020 - accuracy: 0.0099\n",
            "Epoch 86/100\n",
            "11/11 [==============================] - 0s 3ms/step - loss: 0.0014 - accuracy: 0.0099    \n",
            "Epoch 87/100\n",
            "11/11 [==============================] - 0s 3ms/step - loss: 0.0013 - accuracy: 0.0099\n",
            "Epoch 88/100\n",
            "11/11 [==============================] - 0s 3ms/step - loss: 0.0012 - accuracy: 0.0099\n",
            "Epoch 89/100\n",
            "11/11 [==============================] - 0s 3ms/step - loss: 0.0011 - accuracy: 0.0099    \n",
            "Epoch 90/100\n",
            "11/11 [==============================] - 0s 3ms/step - loss: 0.0011 - accuracy: 0.0099\n",
            "Epoch 91/100\n",
            "11/11 [==============================] - 0s 3ms/step - loss: 0.0016 - accuracy: 0.0099\n",
            "Epoch 92/100\n",
            "11/11 [==============================] - 0s 3ms/step - loss: 0.0017 - accuracy: 0.0099    \n",
            "Epoch 93/100\n",
            "11/11 [==============================] - 0s 3ms/step - loss: 0.0016 - accuracy: 0.0099    \n",
            "Epoch 94/100\n",
            "11/11 [==============================] - 0s 3ms/step - loss: 0.0013 - accuracy: 0.0099    \n",
            "Epoch 95/100\n",
            "11/11 [==============================] - 0s 3ms/step - loss: 0.0012 - accuracy: 0.0099    \n",
            "Epoch 96/100\n",
            "11/11 [==============================] - 0s 3ms/step - loss: 0.0015 - accuracy: 0.0099    \n",
            "Epoch 97/100\n",
            "11/11 [==============================] - 0s 3ms/step - loss: 0.0016 - accuracy: 0.0099\n",
            "Epoch 98/100\n",
            "11/11 [==============================] - 0s 3ms/step - loss: 0.0012 - accuracy: 0.0099\n",
            "Epoch 99/100\n",
            "11/11 [==============================] - 0s 3ms/step - loss: 0.0015 - accuracy: 0.0099\n",
            "Epoch 100/100\n",
            "11/11 [==============================] - 0s 3ms/step - loss: 0.0021 - accuracy: 0.0099\n",
            "Model: \"sequential\"\n",
            "_________________________________________________________________\n",
            "Layer (type)                 Output Shape              Param #   \n",
            "=================================================================\n",
            "simple_rnn (SimpleRNN)       (None, 4)                 68        \n",
            "_________________________________________________________________\n",
            "dense (Dense)                (None, 1)                 5         \n",
            "=================================================================\n",
            "Total params: 73\n",
            "Trainable params: 73\n",
            "Non-trainable params: 0\n",
            "_________________________________________________________________\n"
          ],
          "name": "stdout"
        }
      ]
    },
    {
      "cell_type": "markdown",
      "metadata": {
        "id": "Dd2jZl4n0H8m"
      },
      "source": [
        "### 1.3 Evaluate Predictive Model Performance (10 Points)\n",
        "\n",
        "Predict datapoints with the observed datapoints and trained model. \n",
        "\n",
        "**Tasks:**\n",
        "1. Do direct prediction on train and test datapoints with the obtained model in section 1.2. **(2 Points)**\n",
        "2. Scale the prediction results back to original representation with the scaler. **(3 Points)**\n",
        "3. Calculate root mean squared error (RMSE) and **print out** the error for **both TRAIN and TEST**. **(3 Points)**\n",
        "4. **Plot** the **TEST** label and prediction. **(2 Points)**\n",
        "\n",
        "\n",
        "**Hints:**  \n",
        "1. Scale back the predictions with the build-in function \"scaler.inverse_transform\".\\\n",
        "https://scikit-learn.org/stable/modules/generated/sklearn.preprocessing.MinMaxScaler.html#sklearn.preprocessing.MinMaxScaler.inverse_transform\n",
        "2. For validation: Train Score: **~13 RMSE** Test Score: **~19 RMSE**\n",
        "3. The plot for validation is shown below (observation test data are blue and prediction results are orange):\n",
        "![image.png](attachment:image.png)"
      ]
    },
    {
      "cell_type": "code",
      "metadata": {
        "id": "KNEkAMxnz8Mq"
      },
      "source": [
        "### Make Predictions ###\n",
        "\n",
        "trainPredict = model.predict(trainX)\n",
        "testPredict = model.predict(testX)"
      ],
      "execution_count": null,
      "outputs": []
    },
    {
      "cell_type": "code",
      "metadata": {
        "id": "LbnRqEv9z-he"
      },
      "source": [
        "### Scale Back Predictions ###\n",
        "\n",
        "trainPredict = scaler.inverse_transform(trainPredict) # scale train prediction back with scaler.inverse_transform()\n",
        "trainY = scaler.inverse_transform(trainY)  # scale train labels back with scaler.inverse_transform()\n",
        "\n",
        "testPredict = scaler.inverse_transform(testPredict ) # scale test prediction back with scaler.inverse_transform()\n",
        "testY = scaler.inverse_transform(testY) # scale test labels back with scaler.inverse_transform()\n"
      ],
      "execution_count": null,
      "outputs": []
    },
    {
      "cell_type": "code",
      "metadata": {
        "id": "xdBWzmE91G6_",
        "colab": {
          "base_uri": "https://localhost:8080/"
        },
        "outputId": "4971113a-5f8c-4298-b12e-a2e6e223be83"
      },
      "source": [
        "### Calculate Root Mean Squared Error (RMSE) ###\n",
        "import math\n",
        "from sklearn.metrics import mean_squared_error # Import mean_squared_error from sklearn.metrics\n",
        "\n",
        "trainScore = math.sqrt(mean_squared_error(trainY[:,0], trainPredict[:,0])) \n",
        "testScore = math.sqrt(mean_squared_error(testY[:,0], testPredict[:,0]))\n",
        "print('Train Score: %.2f RMSE' % (trainScore))\n",
        "print('Test Score: %.2f RMSE' % (testScore))"
      ],
      "execution_count": null,
      "outputs": [
        {
          "output_type": "stream",
          "text": [
            "Train Score: 13.03 RMSE\n",
            "Test Score: 19.02 RMSE\n"
          ],
          "name": "stdout"
        }
      ]
    },
    {
      "cell_type": "code",
      "metadata": {
        "id": "txdu8q7l1aju",
        "colab": {
          "base_uri": "https://localhost:8080/",
          "height": 282
        },
        "outputId": "0ef70494-92c7-49b5-9376-f476b5da3c74"
      },
      "source": [
        "### Plot Baseline and Predictions ###\n",
        "\n",
        "plt.plot(testY[0]) \n",
        "plt.plot(testPredict)"
      ],
      "execution_count": null,
      "outputs": [
        {
          "output_type": "execute_result",
          "data": {
            "text/plain": [
              "[<matplotlib.lines.Line2D at 0x7fc0f6fa1fd0>]"
            ]
          },
          "metadata": {
            "tags": []
          },
          "execution_count": 14
        },
        {
          "output_type": "display_data",
          "data": {
            "image/png": "[encoded data removed]",
            "text/plain": [
              "<Figure size 432x288 with 1 Axes>"
            ]
          },
          "metadata": {
            "tags": [],
            "needs_background": "light"
          }
        }
      ]
    },
    {
      "cell_type": "markdown",
      "metadata": {
        "id": "O49Ug-FhtCg8"
      },
      "source": [
        "## 2 - Build an LSTM model to conduct sentiment analysis ##\n",
        "\n",
        "### 2.1 Prepare the data (13 Points) ###\n",
        "\n",
        "Prepare IMDB data for reccurent neural network training.\n",
        "\n",
        "**Tasks:**\n",
        "1. Load the data from IMDB review dataset and **print out** the lengths of sequences. **(3 Points)**\n",
        "2. Preprocess review data to meet the network input requirement by specifying **number of words=1000**, setting **the analysis length of the review = 100**, and **padding the input sequences**. **(10 Points)**\n",
        "\n",
        "**Hints:**  \n",
        "1. You may load the IMDB data with keras.datasets.imdb.load_data(num_words=max_features). Here. max_features is set to **1000**.\n",
        "2. You may use keras.preprocessing.sequence.pad_sequences(x_train, maxlen) to pad the input sequences and set maxlen to **100**.\n",
        "\n",
        "**Note:**\\\n",
        "We train the built LSTM-based model with ALL training data; the **validation set** (aka **development set**) is set with the **testing set** for model evaluation. This split is common in the application with limited sampled observation data, like NLP problems.\n"
      ]
    },
    {
      "cell_type": "code",
      "metadata": {
        "id": "UI4ki461S2V3"
      },
      "source": [
        "import tensorflow as tf\n",
        "import tensorflow.keras as keras\n",
        "from keras import layers\n",
        "import random\n",
        "import numpy as np\n",
        "\n",
        "\n",
        "### Set random seed to ensure deterministic results\n",
        "import os\n",
        "seed_value = 1\n",
        "os.environ['PYTHONHASHSEED']=str(seed_value)\n",
        "def reset_random_seeds():\n",
        "   tf.random.set_seed(seed_value)\n",
        "   np.random.seed(seed_value)\n",
        "   random.seed(seed_value)\n",
        "\n",
        "reset_random_seeds() # randomly set initial data"
      ],
      "execution_count": null,
      "outputs": []
    },
    {
      "cell_type": "code",
      "metadata": {
        "id": "LvV1Sv2a18SM",
        "colab": {
          "base_uri": "https://localhost:8080/"
        },
        "outputId": "92b89aff-dec5-4000-9b90-24cacfaf25cb"
      },
      "source": [
        "# Prepare the data here\n",
        "\n",
        "max_features = 1000 # Only consider the top 1k words\n",
        "maxlen = 100 # Only consider the first 100 words of each movie review\n",
        "\n",
        "(x_train, y_train), (x_val, y_val) = keras.datasets.imdb.load_data(num_words=max_features) # load IMDB data with specified num_words = 1000; testing set is set to validation set.\n",
        "print(len(x_train), \"Training sequences\")\n",
        "print(len(x_val), \"Validation sequences\")\n",
        "x_train = keras.preprocessing.sequence.pad_sequences(x_train, maxlen=maxlen) # Pad IMDB training data with specified maxlen=100\n",
        "x_val = keras.preprocessing.sequence.pad_sequences(x_val, maxlen=maxlen) # Pad IMDB validation data with specified maxlen=100\n",
        "\n"
      ],
      "execution_count": null,
      "outputs": [
        {
          "output_type": "stream",
          "text": [
            "Downloading data from https://storage.googleapis.com/tensorflow/tf-keras-datasets/imdb.npz\n",
            "17465344/17464789 [==============================] - 0s 0us/step\n",
            "25000 Training sequences\n",
            "25000 Validation sequences\n"
          ],
          "name": "stdout"
        }
      ]
    },
    {
      "cell_type": "markdown",
      "metadata": {
        "id": "v_JFQeWK18SR"
      },
      "source": [
        "### 2.2 - Design and train LSTM model (25 Points) ###\n",
        "\n",
        "Build an LSTM model.\n",
        "\n",
        "**Tasks:**\n",
        "1. Build the LSTM model with **1 embedding layer**, **1 LSTM layer**, and **1 Dense layer**. **Print out** model summary. The embedding vector is specified with the dimension of **8**. **(10 Points)**\n",
        "2. Compile the LSTM model with **Adam** optimizer, **binary_crossentropy** loss function, and **accuracy** metrics. **(5 Points)**  \n",
        "3. Train the LSTM model with **batch_size=64 for 10 epochs** and report **training and validation accuracies over epochs**. **(5 Points)**\n",
        "4. **Print out** best validation accuracy. **(5 Points)**\n",
        "\n",
        "\n",
        "\n",
        "**Hints:**  \n",
        "1. Set input dimension to **1000** and output dimension to **8** for embedding layer.\n",
        "2. Set **unit_size=8** for LSTM layer.\n",
        "3. Set activation function to **sigmoid** for Dense layer.\n",
        "4. For validation: the outputs for first epoch should be close to（but maybe not exactly following） the statistics below:\\\n",
        "**loss: ~0.5675 - accuracy: ~0.7072 - val_loss: ~0.4549 - val_accuracy: ~0.8020**\n",
        "\n",
        "**Useful Reference:**\n",
        "1. https://keras.io/examples/nlp/bidirectional_lstm_imdb/"
      ]
    },
    {
      "cell_type": "code",
      "metadata": {
        "id": "UDqqgFt118SS",
        "colab": {
          "base_uri": "https://localhost:8080/"
        },
        "outputId": "6b8e3bcd-3a3e-4aeb-b545-a27738ddab12"
      },
      "source": [
        "### Model design with Embedding and LSTM layers ####\n",
        "inputs = keras.Input(shape=(None,), dtype=\"int32\") # This is an easy way to set an adaptive length for input sequence\n",
        "x = layers.Embedding(max_features, 8)(inputs) # Embed data in an 8-dimensional vector\n",
        "x = layers.LSTM(units=8)(x) # Add 1st layer of LSTM with 8 hidden states (aka units)\n",
        "outputs = layers.Dense(units=1, activation='sigmoid')(x) # Add a classifier with units=1 and activation=\"sigmoid\"\n",
        "\n",
        "### Clear cached model to refresh memory and build new model for training ###\n",
        "keras.backend.clear_session() # Clear cached model\n",
        "model = keras.Model(inputs, outputs) # Build new keras model\n",
        "model.summary() # Print out model summary\n",
        "\n",
        "# Compile built model with \"adam\", \"binary_crossentropy\", and metrics=[\"accuracy\"]\n",
        "model.compile(loss='binary_crossentropy', optimizer='adam', metrics=['accuracy'])\n",
        " # Train the compiled model with model.fit()\n",
        "history = model.fit(x_train, y_train, batch_size=64, epochs=10, validation_data=(x_val, y_val))\n",
        "\n",
        "# Print out the best validation accuracy\n",
        "print()\n",
        "print('The best validation accuracy: {}'.format(max(history.history['val_accuracy'])))"
      ],
      "execution_count": null,
      "outputs": [
        {
          "output_type": "stream",
          "text": [
            "Model: \"functional_1\"\n",
            "_________________________________________________________________\n",
            "Layer (type)                 Output Shape              Param #   \n",
            "=================================================================\n",
            "input_1 (InputLayer)         [(None, None)]            0         \n",
            "_________________________________________________________________\n",
            "embedding (Embedding)        (None, None, 8)           8000      \n",
            "_________________________________________________________________\n",
            "lstm (LSTM)                  (None, 8)                 544       \n",
            "_________________________________________________________________\n",
            "dense_1 (Dense)              (None, 1)                 9         \n",
            "=================================================================\n",
            "Total params: 8,553\n",
            "Trainable params: 8,553\n",
            "Non-trainable params: 0\n",
            "_________________________________________________________________\n",
            "Epoch 1/10\n",
            "391/391 [==============================] - 4s 11ms/step - loss: 0.5675 - accuracy: 0.7072 - val_loss: 0.4549 - val_accuracy: 0.8020\n",
            "Epoch 2/10\n",
            "391/391 [==============================] - 4s 10ms/step - loss: 0.4142 - accuracy: 0.8179 - val_loss: 0.4036 - val_accuracy: 0.8181\n",
            "Epoch 3/10\n",
            "391/391 [==============================] - 4s 10ms/step - loss: 0.3833 - accuracy: 0.8324 - val_loss: 0.3836 - val_accuracy: 0.8288\n",
            "Epoch 4/10\n",
            "391/391 [==============================] - 4s 10ms/step - loss: 0.3680 - accuracy: 0.8404 - val_loss: 0.3846 - val_accuracy: 0.8262\n",
            "Epoch 5/10\n",
            "391/391 [==============================] - 4s 11ms/step - loss: 0.3624 - accuracy: 0.8430 - val_loss: 0.3815 - val_accuracy: 0.8290\n",
            "Epoch 6/10\n",
            "391/391 [==============================] - 4s 10ms/step - loss: 0.3597 - accuracy: 0.8426 - val_loss: 0.4277 - val_accuracy: 0.8164\n",
            "Epoch 7/10\n",
            "391/391 [==============================] - 4s 10ms/step - loss: 0.3539 - accuracy: 0.8434 - val_loss: 0.3723 - val_accuracy: 0.8313\n",
            "Epoch 8/10\n",
            "391/391 [==============================] - 4s 11ms/step - loss: 0.3471 - accuracy: 0.8465 - val_loss: 0.3739 - val_accuracy: 0.8292\n",
            "Epoch 9/10\n",
            "391/391 [==============================] - 4s 10ms/step - loss: 0.3413 - accuracy: 0.8483 - val_loss: 0.3901 - val_accuracy: 0.8314\n",
            "Epoch 10/10\n",
            "391/391 [==============================] - 4s 10ms/step - loss: 0.3365 - accuracy: 0.8521 - val_loss: 0.3798 - val_accuracy: 0.8308\n",
            "\n",
            "The best validation accuracy: 0.8313599824905396\n"
          ],
          "name": "stdout"
        }
      ]
    },
    {
      "cell_type": "markdown",
      "metadata": {
        "id": "0vqvy2tdEw7J"
      },
      "source": [
        "### 2.3 - LSTM hyperparameter tuning (Bonus 15 Points) ###\n",
        "\n",
        "Boost the performance of obtained LSTM (aka vanilla model) by hyperparameter tuning.\n",
        "\n",
        "**Tasks:**\n",
        "- All modificiations are directly conducted based on the vanilla model above (from 2.2).\n",
        "- For each scenario, **report <span style=\"color:red\"> BEST Validation Accuracy </span> and generate Training/Validation <span style=\"color:red\"> Accuracy plots over epochs</span>**. You may just paste the plot figures in the cells with **Markdown mode**. Make sure it is correctly shown after jupyter notebook run the cell.\n",
        "1.  Scenario 1 (**5 points**):\n",
        "    - Add one additional LSTM layer (totally 2 LSTM layers).\n",
        "    - Modify the embedding dimension to 16.\n",
        "    - Modify the units of LSTM to 16.\n",
        "2. Scenario 2 (**5 points**)\n",
        "    - Add one additional LSTM layer (totally 2 LSTM layers).\n",
        "    - Modify the embedding dimension to 128.\n",
        "    - Modify the units of LSTM to 128.\n",
        "3. Scenario 3 (**5 points**)\n",
        "    - Add one additional LSTM layer (totally 2 LSTM layers).\n",
        "    - Modify the embedding dimension to 128.\n",
        "    - Modify the units of LSTM to 128.\n",
        "    - Increase analysis length for review data to maxlen = 200\n",
        "\n",
        "**Hints:**  \n",
        "For validation: the outputs for first epoch should be close to（but maybe not exactly following） the statistics below:\n",
        "- Scenario 1: **loss: ~0.4968 - accuracy: ~0.7450 - val_loss: ~0.4079 - val_accuracy: ~0.8198**\n",
        "- Scenario 2: **loss: ~0.4764 - accuracy: ~0.7670 - val_loss: ~0.4133 - val_accuracy: ~0.8179**\n",
        "- Scenario 3: **loss: ~0.4819 - accuracy: ~0.7644 - val_loss: ~0.4031 - val_accuracy: ~0.8105**\n",
        "\n",
        "You may follow the example from the reference below to add additional LSTM layer.\n",
        "\n",
        "**Useful Reference:**\n",
        "1. https://keras.io/examples/nlp/bidirectional_lstm_imdb/  "
      ]
    },
    {
      "cell_type": "markdown",
      "metadata": {
        "id": "0Nr74ZosOWWK"
      },
      "source": [
        "### Scenario1 ###\n",
        "![Scenario1.png](data:image/png;base64,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)"
      ]
    },
    {
      "cell_type": "code",
      "metadata": {
        "id": "Keod5xXkEKnx"
      },
      "source": [
        "########################### Scenario 1 ###########################\n",
        "##################################################################\n",
        "\n",
        "### Set random seed to ensure deterministic results ###\n",
        "import os\n",
        "seed_value = 1\n",
        "os.environ['PYTHONHASHSEED']=str(seed_value)\n",
        "def reset_random_seeds():\n",
        "   tf.random.set_seed(seed_value)\n",
        "   np.random.seed(seed_value)\n",
        "   random.seed(seed_value)\n",
        "\n",
        "reset_random_seeds() # randomly set initial data\n",
        "\n",
        "max_features = 1000 # Only consider the top 1k words\n",
        "maxlen = 100 # Only consider the first 100 words of each movie review\n",
        "\n",
        "### Model design with Embedding and LSTM layers ####\n",
        "inputs = keras.Input(shape=(None,), dtype=\"int32\") # This is an easy way to set an adaptive length for input sequence\n",
        "x = layers.Embedding(max_features, 16)(inputs) # Embed data in a 16-dimensional vector\n",
        "x = layers.LSTM(units=16, return_sequences=True)(x) # Add 1st layer of LSTM with 16 hidden states (aka units); set return_sequences=true.\n",
        "x = layers.LSTM(units=16)(x) # Add 2nd layer of LSTM with 16 hidden states (aka units)\n",
        "outputs = layers.Dense(units=1, activation='sigmoid')(x) # Add a classifier with units=1 and activation=\"sigmoid\"\n",
        "\n",
        "### Clear cached model to refresh memory and build new model for training ###\n",
        "keras.backend.clear_session() # Clear cached model\n",
        "model = keras.Model(inputs, outputs) # Build new keras model\n",
        "model.summary() # Print out model summary\n",
        "\n",
        "# Compile built model with \"adam\", \"binary_crossentropy\", and metrics=[\"accuracy\"]\n",
        "model.compile(loss='binary_crossentropy', optimizer='adam', metrics=['accuracy'])\n",
        "# Train the compiled model using model.fit() with batch_size=64, epochs=10, and validation_data=(x_val, y_val)\n",
        "history = model.fit(x_train, y_train, batch_size=64, epochs=10, validation_data=(x_val, y_val))\n",
        "\n",
        "# Print out best validation accuracy\n",
        "print()\n",
        "print('The best validation accuracy: {}'.format(max(history.history['val_accuracy'])))\n",
        "\n",
        "epoch_range = range(1, len(history.history['accuracy']) + 1)\n",
        "\n",
        "# Summarize the intermediate training/validation accuracy plots over epochs\n",
        "plt.plot(epoch_range, history.history['accuracy'])\n",
        "plt.plot(epoch_range, history.history['val_accuracy'])\n",
        "plt.title('Model Accuracy')\n",
        "plt.ylabel('accuracy')\n",
        "plt.xlabel('epoch')\n",
        "plt.legend(['train', 'validation'], loc='upper left')\n",
        "plt.show()"
      ],
      "execution_count": null,
      "outputs": []
    },
    {
      "cell_type": "markdown",
      "metadata": {
        "id": "fgT4VH1JPWfU"
      },
      "source": [
        "### Scenario2 ###\n",
        "![Scenario2.png](data:image/png;base64,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)"
      ]
    },
    {
      "cell_type": "code",
      "metadata": {
        "id": "dL8AqnJrshVD"
      },
      "source": [
        "########################### Scenario 2 ###########################\n",
        "##################################################################\n",
        "\n",
        "### Set random seed to ensure deterministic results ###\n",
        "import os\n",
        "seed_value = 1\n",
        "os.environ['PYTHONHASHSEED']=str(seed_value)\n",
        "def reset_random_seeds():\n",
        "   tf.random.set_seed(seed_value)\n",
        "   np.random.seed(seed_value)\n",
        "   random.seed(seed_value)\n",
        "\n",
        "reset_random_seeds() # randomly set initial data\n",
        "\n",
        "max_features = 1000 # Only consider the top 1k words\n",
        "maxlen = 100 # Only consider the first 100 words of each movie review\n",
        "\n",
        "### Model design with Embedding and LSTM layers ####\n",
        "inputs = keras.Input(shape=(None,), dtype=\"int32\") # This is an easy way to set an adaptive length for input sequence\n",
        "x = layers.Embedding(max_features, 128)(inputs) # Embed data in a 128-dimensional vector\n",
        "x = layers.LSTM(units=128, return_sequences=True)(x) # Add 1st layer of LSTM with 128 hidden states (aka units); set return_sequences=true.\n",
        "x = layers.LSTM(units=128)(x) # Add 2nd layer of LSTM with 128 hidden states (aka units)\n",
        "outputs = layers.Dense(units=1, activation='sigmoid')(x) # Add a classifier with units=1 and activation=\"sigmoid\"\n",
        "\n",
        "### Clear cached model to refresh memory and build new model for training ###\n",
        "keras.backend.clear_session() # Clear cached model\n",
        "model = keras.Model(inputs, outputs) # Build new keras model\n",
        "model.summary() # Print out model summary\n",
        "\n",
        "# Compile built model with \"adam\", \"binary_crossentropy\", and metrics=[\"accuracy\"]\n",
        "model.compile(loss='binary_crossentropy', optimizer='adam', metrics=['accuracy'])\n",
        "# Train the compiled model using model.fit() with batch_size=64, epochs=10, and validation_data=(x_val, y_val)\n",
        "history = model.fit(x_train, y_train, batch_size=64, epochs=10, validation_data=(x_val, y_val))\n",
        "\n",
        "# Print out best validation accuracy\n",
        "print()\n",
        "print('The best validation accuracy: {}'.format(max(history.history['val_accuracy'])))\n",
        "\n",
        "epoch_range = range(1, len(history.history['accuracy']) + 1)\n",
        "\n",
        "# Summarize the intermediate training/validation accuracy plots over epochs\n",
        "plt.plot(epoch_range, history.history['accuracy'])\n",
        "plt.plot(epoch_range, history.history['val_accuracy'])\n",
        "plt.title('Model Accuracy')\n",
        "plt.ylabel('accuracy')\n",
        "plt.xlabel('epoch')\n",
        "plt.legend(['train', 'validation'], loc='upper left')\n",
        "plt.show()"
      ],
      "execution_count": null,
      "outputs": []
    },
    {
      "cell_type": "markdown",
      "metadata": {
        "id": "PzuJtTCEPgkE"
      },
      "source": [
        "### Scenario3 ###\n",
        "![Scenario3.png](data:image/png;base64,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)"
      ]
    },
    {
      "cell_type": "code",
      "metadata": {
        "id": "XTY1Gm47shVD"
      },
      "source": [
        "########################### Scenario 3 ###########################\n",
        "##################################################################\n",
        "\n",
        "### Set random seed to ensure deterministic results ###\n",
        "import os\n",
        "seed_value = 1\n",
        "os.environ['PYTHONHASHSEED']=str(seed_value)\n",
        "def reset_random_seeds():\n",
        "   tf.random.set_seed(seed_value)\n",
        "   np.random.seed(seed_value)\n",
        "   random.seed(seed_value)\n",
        "\n",
        "reset_random_seeds() # randomly set initial data\n",
        "\n",
        "max_features = 1000 # Only consider the top 1k words\n",
        "maxlen = 200 # Only consider the first 200 words of each movie review\n",
        "\n",
        "(x_train, y_train), (x_val, y_val) = keras.datasets.imdb.load_data(num_words=max_features) # load IMDB data with specified num_words = 1000; testing set is set to validation set.\n",
        "x_train = keras.preprocessing.sequence.pad_sequences(x_train, maxlen=maxlen) # Pad IMDB training data with specified maxlen=200\n",
        "x_val = keras.preprocessing.sequence.pad_sequences(x_val, maxlen=maxlen) # Pad IMDB validation data with specified maxlen=200\n",
        "\n",
        "### Model design with Embedding and LSTM layers ####\n",
        "inputs = keras.Input(shape=(None,), dtype=\"int32\") # This is an easy way to set an adaptive length for input sequence\n",
        "x = layers.Embedding(max_features, 128)(inputs) # Embed data in a 128-dimensional vector\n",
        "x = layers.LSTM(units=128, return_sequences=True)(x) # Add 1st layer of LSTM with 128 hidden states (aka units); set return_sequences=true.\n",
        "x = layers.LSTM(units=128)(x) # Add 2nd layer of LSTM with 128 hidden states (aka units)\n",
        "outputs = layers.Dense(units=1, activation='sigmoid')(x) # Add a classifier with units=1 and activation=\"sigmoid\"\n",
        "\n",
        "### Clear cached model to refresh memory and build new model for training ###\n",
        "keras.backend.clear_session() # Clear cached model\n",
        "model = keras.Model(inputs, outputs) # Build new keras model\n",
        "model.summary() # Print out model summary\n",
        "\n",
        "# Compile built model with \"adam\", \"binary_crossentropy\", and metrics=[\"accuracy\"]\n",
        "model.compile(loss='binary_crossentropy', optimizer='adam', metrics=['accuracy'])\n",
        "# Train the compiled model using model.fit() with batch_size=64, epochs=10, and validation_data=(x_val, y_val)\n",
        "history = model.fit(x_train, y_train, batch_size=64, epochs=10, validation_data=(x_val, y_val))\n",
        "\n",
        "# Print out best validation accuracy\n",
        "print()\n",
        "print('The best validation accuracy: {}'.format(max(history.history['val_accuracy'])))\n",
        "\n",
        "epoch_range = range(1, len(history.history['accuracy']) + 1)\n",
        "\n",
        "# Summarize the intermediate training/validation accuracy plots over epochs\n",
        "plt.plot(epoch_range, history.history['accuracy'])\n",
        "plt.plot(epoch_range, history.history['val_accuracy'])\n",
        "plt.title('Model Accuracy')\n",
        "plt.ylabel('accuracy')\n",
        "plt.xlabel('epoch')\n",
        "plt.legend(['train', 'validation'], loc='upper left')\n",
        "plt.show()"
      ],
      "execution_count": null,
      "outputs": []
    }
  ]
}