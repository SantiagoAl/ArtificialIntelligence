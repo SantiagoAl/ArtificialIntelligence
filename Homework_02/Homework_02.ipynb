{
  "nbformat": 4,
  "nbformat_minor": 0,
  "metadata": {
    "coursera": {
      "course_slug": "neural-networks-deep-learning",
      "graded_item_id": "XaIWT",
      "launcher_item_id": "zAgPl"
    },
    "kernelspec": {
      "display_name": "Python 3",
      "language": "python",
      "name": "python3"
    },
    "language_info": {
      "codemirror_mode": {
        "name": "ipython",
        "version": 3
      },
      "file_extension": ".py",
      "mimetype": "text/x-python",
      "name": "python",
      "nbconvert_exporter": "python",
      "pygments_lexer": "ipython3",
      "version": "3.8.3"
    },
    "colab": {
      "name": "Homework_02.ipynb",
      "provenance": [],
      "collapsed_sections": []
    }
  },
  "cells": [
    {
      "cell_type": "markdown",
      "metadata": {
        "id": "XchI6w2QsiGv"
      },
      "source": [
        "# Logistic Regression Homework\n",
        "\n",
        "This is the 2nd assignment for CAP 4630 and we will implement logistic regression and apply it to two\n",
        "different datasets. \\\n",
        "You will use **\"Tasks\"** and **\"Hints\"** to finish the work. **(Total 100 Points)** \\\n",
        "You are **not** allowed to use Machine Learning libaries such as Scikit-learn and Keras.\n",
        "\n",
        "**Task Overview:**\n",
        "- Logistic Regression \n",
        "- Regularized logistic regression"
      ]
    },
    {
      "cell_type": "markdown",
      "metadata": {
        "id": "iVAJ85j9siGx"
      },
      "source": [
        "## 1 - Logistic Regression ##\n",
        "### 1.1 Packages\n",
        "\n",
        "Import useful packages for scientific computing and data processing. \n",
        "\n",
        "**Tasks:**\n",
        "1. Import numpy and rename it to np.\n",
        "2. Import pandas and rename it to pd.\n",
        "3. Import the pyplot function in the libraray of matplotlib and rename it to plt.\n",
        "\n",
        "References:\n",
        "- [numpy](www.numpy.org) is the fundamental package for scientific computing with Python.\n",
        "- [matplotlib](http://matplotlib.org) is a famous library to plot graphs in Python.\n",
        "\n",
        "**Attention:**\n",
        "1. After this renaming, you will use the new name to call functions. For example, **numpy** will become **np** in the following sections."
      ]
    },
    {
      "cell_type": "code",
      "metadata": {
        "id": "IqTGLktMsiGx"
      },
      "source": [
        "# Import and rename libraries here\n",
        "import numpy as np\n",
        "import pandas as pd\n",
        "import matplotlib.pyplot as plt"
      ],
      "execution_count": null,
      "outputs": []
    },
    {
      "cell_type": "markdown",
      "metadata": {
        "collapsed": true,
        "id": "8_zQkJ2GsiG1"
      },
      "source": [
        "### 1.2 - Data Preparation ##\n",
        "\n",
        "Prepare the data for regression task. **(5 Points)**\n",
        "\n",
        "**Tasks:**\n",
        "1. Load data for logistic regression.\n",
        "2. Generate the scatter plot of the data.\n",
        "\n",
        "**Hints:**\n",
        "1. The data file is \"data_logistic.csv\", which are exam scores for students.\n",
        "2. The data is organized by column: x1 (exam 1 score), x2 (exam 2 score), and label y (pass 1 or fail 0).\n",
        "3. Please use different colors for postive(label=1) and negative(label=0) data.\n",
        "4. An example of scatter plots is shown below.\n",
        "![mxplusc](data_plots.png)"
      ]
    },
    {
      "cell_type": "code",
      "metadata": {
        "id": "A0z1TttxsiG1",
        "outputId": "290e0929-e554-4e71-dd7b-1a43eae57371",
        "colab": {
          "base_uri": "https://localhost:8080/",
          "height": 279
        }
      },
      "source": [
        "# Preprocess input data and generate plots\n",
        "data = pd.read_csv('data_logistic.csv')\n",
        "\n",
        "# Here we are separating the data from 'data_logistic.csv' (which is stored in our data variable)\n",
        "# into our 'x1', 'x2', and 'y' variables\n",
        "x1 = np.array(data.iloc[:, 0])\n",
        "x2 = np.array(data.iloc[:, 1])\n",
        "y = np.array(data.iloc[:, 2])\n",
        "# This holds the amount of observations in our dataset\n",
        "m = len(x1)\n",
        "\n",
        "def plot_graph(x1, x2, y):\n",
        "  for i in range(len(x1)):\n",
        "    if y[i] == 0:\n",
        "      plt.scatter(x1[i], x2[i], c='green', marker='o', label='Negative')\n",
        "    else:\n",
        "      plt.scatter(x1[i], x2[i], c='black', marker='+', label='Positive')\n",
        "  \n",
        "  handles, labels = plt.gca().get_legend_handles_labels()\n",
        "  by_label = dict(zip(labels, handles))\n",
        "\n",
        "  plt.legend(by_label.values(), by_label.keys())\n",
        "  plt.xlabel('x1')\n",
        "  plt.ylabel('x2')\n",
        "  plt.show()\n",
        "\n",
        "plot_graph(x1, x2, y)"
      ],
      "execution_count": null,
      "outputs": [
        {
          "output_type": "display_data",
          "data": {
            "image/png": "[encoded data removed]",
            "text/plain": [
              "<Figure size 432x288 with 1 Axes>"
            ]
          },
          "metadata": {
            "tags": [],
            "needs_background": "light"
          }
        }
      ]
    },
    {
      "cell_type": "markdown",
      "metadata": {
        "id": "PW7tBcx4siG5"
      },
      "source": [
        "### 1.3 - Sigmoid function ##\n",
        "\n",
        "\n",
        "Implement sigmoid function so it can be called by the rest of your program. **(10 Points)**\n",
        "\n",
        "**Tasks:**\n",
        "1. Implement the sigmoid function (**def sigmoid(z):**). \n",
        "2. Test the sigmoid function by function plotting with test data (X, Y) where Y = sigmoid(X). \n",
        "\n",
        "**Hints:**  \n",
        "1. Given the class material, sigmoid function is defined as:\n",
        "$g(z) = \\frac{1}{1+e^{-z}}$.\n",
        "2. You may consider X = np.linspace(-5, 5, 1000) to plot the curve.\n",
        "3. Plot Y against X.\n",
        "4. An example of plot for validation is shown below:\n",
        "![mxplusc](sigmoid_illustration.jpg)"
      ]
    },
    {
      "cell_type": "code",
      "metadata": {
        "id": "1QRVd-CxsiG5"
      },
      "source": [
        "# Implement sigmoid fuction here\n",
        "def sigmoid(z):\n",
        "  return 1 / (1 + np.exp(-z))"
      ],
      "execution_count": null,
      "outputs": []
    },
    {
      "cell_type": "code",
      "metadata": {
        "id": "TEm9FQWQsiG8",
        "outputId": "7970e3d9-ea4a-4449-c11a-a1318e6d8ad9",
        "colab": {
          "base_uri": "https://localhost:8080/",
          "height": 279
        }
      },
      "source": [
        "# Plot data here\n",
        "X = np.linspace(-5,5,1000)\n",
        "Y = np.array(sigmoid(X))\n",
        "\n",
        "plt.scatter(X, Y)\n",
        "plt.xlabel('X')\n",
        "plt.ylabel('g(X)')\n",
        "plt.show()"
      ],
      "execution_count": null,
      "outputs": [
        {
          "output_type": "display_data",
          "data": {
            "image/png": "[encoded data removed]",
            "text/plain": [
              "<Figure size 432x288 with 1 Axes>"
            ]
          },
          "metadata": {
            "tags": [],
            "needs_background": "light"
          }
        }
      ]
    },
    {
      "cell_type": "markdown",
      "metadata": {
        "id": "8o4oIwFFsiG_"
      },
      "source": [
        "### 1.4 - Cost function and gradient ##\n",
        "\n",
        "Implement the cross entropy cost function and its gradient for logistic regression. **(20 Points)**\n",
        "\n",
        "**Tasks:**\n",
        "1. Implement the \"cal_cost\" to compute the cost.\n",
        "2. Implement the \"cal_grad\" to compute the gradients.\n",
        "3. Test \"cal_cost\" and \"cal_grad\" with initial values and print out the results.\n",
        "\n",
        "**Hint:**\n",
        "1. The cross entropy cost function (J(θ)) in logistic regression is shown below. It involves two terms, including ylog(h) and (1-y)log(1-h) where h is the function of x.\n",
        "![mxplusc](equation_J.jpg)\n",
        "2. The gradient of the cost J(θ) is a vector of the same length as θ where the $j$th element (for $j = 0, 1, . . . , n)$ is defined below. You may do a hand calculation to justify the first order derivative with the term above.\n",
        "![mxplusc](equation_theta.jpg)\n",
        "3. When you implement J(θ), please use eps = 1e-15 to prevent possible \"divide by 0 exception\" in second term. You may think about the reason.\n",
        "4. You may consider the below templates for two functions:\n",
        "\n",
        "    def cal_cost(theta, X, y):\n",
        " \n",
        "        htheta = ...\n",
        "        term1 = ...  /* matrix_multiplication(log(htheta), y)\n",
        "        term2 = ...  /* matrix_multiplication(log(1-htheta+eps), (1-y))\n",
        "        J = - 1 / m * (term1 + term2) \n",
        "        \n",
        "        return cost\n",
        "        \n",
        "    \n",
        "    def cal_grad(theta, X, y):\n",
        "        \n",
        "        htheta = ...\n",
        "        term1 = ... /* matrix_multiplication(transpose(X), (htheta - y))  //you may think about why transpose(x)\n",
        "        grad = 1 / m * term1 \n",
        "    \n",
        "        return grad\n",
        "5. It involves matrix multiplication and you may consider the function of np.matmul or np.dot.   \n",
        "        \n",
        "6. Initialize the intercept term with **ones** and the theta with **zeros**. Test the functions with these initial values. \\\n",
        "    **Expected outputs:**\\\n",
        "    Cost at initial theta : 0.6931471805599445\\\n",
        "    Gradient at inital theta : [-0.1        -10.91242026 -11.73652937]\n"
      ]
    },
    {
      "cell_type": "code",
      "metadata": {
        "id": "HMtk9x0_siG_",
        "outputId": "b2974dfb-e676-4e09-bc49-cbcf81221277",
        "colab": {
          "base_uri": "https://localhost:8080/",
          "height": 51
        }
      },
      "source": [
        "# Implement the cost function here\n",
        "\n",
        "def cal_cost(theta, X, y):\n",
        "  htheta = np.array(sigmoid(np.dot(theta, X)))\n",
        "  term1 = np.dot(np.log(htheta), y)\n",
        "  term2 = np.dot(np.log(1 - htheta + 1e-15), (1 - y))\n",
        "  J = -1 / m * (term1 + term2)\n",
        "  return J\n",
        "\n",
        "############################################\n",
        "def cal_grad(theta, X, y):\n",
        "  htheta = np.array(sigmoid(np.dot(theta, X)))\n",
        "  term1 = np.dot(X, (htheta - y))\n",
        "  grad = 1 / m * term1\n",
        "  return grad\n",
        "\n",
        "# Here I am testing the 'cal_cost' and 'cal_grad' functions and then printing\n",
        "# out the results\n",
        "X = np.array([np.ones(len(x1)), x1, x2])\n",
        "test_theta = np.array([0,0,0])\n",
        "\n",
        "# Calculate the cost at the initial theta\n",
        "J = cal_cost(test_theta, X, y)\n",
        "# Calculate the gradient at the initial theta\n",
        "grad = np.array(cal_grad(test_theta, X, y))\n",
        "\n",
        "print ('Cost at initial theta: {0}'.format(J))\n",
        "print ('Gradient at inital theta: {0}'.format(grad))\n"
      ],
      "execution_count": null,
      "outputs": [
        {
          "output_type": "stream",
          "text": [
            "Cost at initial theta: 0.6931471805599445\n",
            "Gradient at inital theta: [ -0.1        -10.91242026 -11.73652937]\n"
          ],
          "name": "stdout"
        }
      ]
    },
    {
      "cell_type": "markdown",
      "metadata": {
        "id": "fAdU1lLVsiHC"
      },
      "source": [
        "## 1.5 Train parameters with Gradient Descent ##\n",
        "\n",
        "\n",
        "Train parameters using Gradient Descent. **(10 Points)**\n",
        "\n",
        "**Tasks:**\n",
        "1. Calculate best fit theta by Gradient Descent with learning rate of **0.001** and epoch of **800K**. The initial theta from above blocks is used as initial values.\n",
        "2. Print out the best theta (the last one is considered as the best here) and its corresponding cost.\n",
        "3. Plot the decision boundary.\n",
        "\n",
        "**Hints:**\n",
        "1. You may take gradient descent in homework 1 as an template.\n",
        "2. The validation of first 5 epochs (updated theta and cost): \\\n",
        "------Epoch 0------\\\n",
        "Theta: [0.0001     0.01091242 0.01173653]\\\n",
        "Cost: 0.6996118077359638\\\n",
        "------Epoch 1------\\\n",
        "Theta: [-0.0001129   0.00053949  0.00229352]\\\n",
        "Cost: 0.6649331468590681\\\n",
        "------Epoch 2------\\\n",
        "Theta: [-5.93604956e-05  8.33145873e-03  1.07754324e-02]\\\n",
        "Cost: 0.6679914364992459\\\n",
        "------Epoch 3------\\\n",
        "Theta: [-0.0002356   0.0004607   0.00370829]\\\n",
        "Cost: 0.6545873034874964\\\n",
        "------Epoch 4------\\\n",
        "Theta: [-0.00020363  0.00683227  0.01065138]\\\n",
        "Cost: 0.6563302142684528\n",
        "3. You may take the plots below as an exmample: \n",
        "![mxplusc](decision_boundary_01.png)\n",
        "4. It may take ~1 min to finish running."
      ]
    },
    {
      "cell_type": "code",
      "metadata": {
        "id": "JCtvRHJnsiHC",
        "outputId": "2711c361-0ae5-4999-bdb7-32b74d7ee1ad",
        "colab": {
          "base_uri": "https://localhost:8080/",
          "height": 51
        }
      },
      "source": [
        "# Gradient Descent Implementation Here\n",
        "\n",
        "# The learning rate for the model\n",
        "L = 0.001\n",
        "# The number of iterations to perform gradient descent\n",
        "epochs = 800000\n",
        "\n",
        "# Our initial values\n",
        "theta = np.array([0,0,0])\n",
        "\n",
        "# The loop that will implement the gradient descent\n",
        "for i in range(epochs):\n",
        "  theta_prev = theta\n",
        "  w0 = theta_prev[0] - L*cal_grad(theta_prev, X, y)[0]\n",
        "  w1 = theta_prev[1] - L*cal_grad(theta_prev, X, y)[1]\n",
        "  w2 = theta_prev[2] - L*cal_grad(theta_prev, X, y)[2]\n",
        "  theta = np.array([w0, w1, w2])\n",
        "\n",
        "print('Theta: {0}'.format(theta))\n",
        "print('Cost: {0}'.format(cal_cost(theta, X, y)))"
      ],
      "execution_count": null,
      "outputs": [
        {
          "output_type": "stream",
          "text": [
            "Theta: [-13.38180064   0.10550175   0.11154862]\n",
            "Cost: 0.2761699482595887\n"
          ],
          "name": "stdout"
        }
      ]
    },
    {
      "cell_type": "code",
      "metadata": {
        "id": "FYrXbI30siHF",
        "outputId": "485d4ed6-cd40-42f8-ca8f-a9dbf49c37ba",
        "colab": {
          "base_uri": "https://localhost:8080/",
          "height": 279
        }
      },
      "source": [
        "# Function to give us the formula for our line\n",
        "def my_formula(x):\n",
        "  return (-theta[0]-theta[1]*x) / theta[2]\n",
        "\n",
        "# Draw Decision Boundary Here\n",
        "def graph(formula, x_range):\n",
        "  x = np.array(x_range)\n",
        "  y = formula(x)\n",
        "  plt.plot(x,y)\n",
        "\n",
        "# Create a scatter plot using our variables and then display it\n",
        "# 'plot_graph' is a function I created in section 1.2 to create the graph\n",
        "graph(my_formula, range(30,100))\n",
        "plot_graph(x1, x2, y)"
      ],
      "execution_count": null,
      "outputs": [
        {
          "output_type": "display_data",
          "data": {
            "image/png": "[encoded data removed]",
            "text/plain": [
              "<Figure size 432x288 with 1 Axes>"
            ]
          },
          "metadata": {
            "tags": [],
            "needs_background": "light"
          }
        }
      ]
    },
    {
      "cell_type": "markdown",
      "metadata": {
        "id": "KWKmAlljsiHI"
      },
      "source": [
        "\n",
        "### 1.6 Evaluating Logistic Regression\n",
        "\n",
        "Evaluate the model with given data. **(5 Points)**\n",
        "\n",
        "**Tasks:**\n",
        "1. Calculate the training accuracy and print it out\n",
        "2. Evaluate the predicted probability of the learnt model with x1 = 56 and x2 = 32 and print it out.\n",
        "\n",
        "\n",
        "**Hints:**  \n",
        "1. Positive(prediction>0.5) and negative(prediction<=0.5). \n",
        "2. The prediction results are based on acceptance probability. Given the two exam scores, we expected the model yields either high probability of \"fail\" or low probability of \"pass\".\n",
        "3. Training accuracy should be high enough, like above 87%."
      ]
    },
    {
      "cell_type": "code",
      "metadata": {
        "id": "wDdAmaDasiHI",
        "outputId": "fd3e7f63-fa70-4e25-fc5f-6996522756ee",
        "colab": {
          "base_uri": "https://localhost:8080/",
          "height": 51
        }
      },
      "source": [
        "# Evaluate the model\n",
        "y_pred = np.array(sigmoid(np.dot(theta, X)))\n",
        "correct = 0\n",
        "\n",
        "# Loop through our predictions, comparing them to the actual label\n",
        "# and add up the number of correct predictions\n",
        "for i in range(len(y_pred)):\n",
        "  if y_pred[i] > 0.5 and y[i] == 1:\n",
        "    correct = correct + 1\n",
        "  elif y_pred[i] <= 0.5 and y[i] == 0:\n",
        "    correct = correct + 1\n",
        "  else:\n",
        "    continue\n",
        "\n",
        "accuracy = correct / m * 100\n",
        "print('Accuracy of the model is: {0}'.format(accuracy))\n",
        "\n",
        "# Now, evaluate the predicted probability of the mode with x1 = 56 and x2 32\n",
        "exam_scores = np.array([1,56,32])\n",
        "y_pred = np.array(sigmoid(np.dot(theta, exam_scores)))\n",
        "\n",
        "print('With exam scores of {} and {}, the learned model predicted of probability of {} to pass'\n",
        "        .format(exam_scores[1], exam_scores[2], y_pred))"
      ],
      "execution_count": null,
      "outputs": [
        {
          "output_type": "stream",
          "text": [
            "Accuracy of the model is: 87.5\n",
            "With exam scores of 56 and 32, the learned model predicted of probability of 0.0197598304099641 to pass\n"
          ],
          "name": "stdout"
        }
      ]
    },
    {
      "cell_type": "markdown",
      "metadata": {
        "id": "NQJHrTYosiHL"
      },
      "source": [
        "\n",
        "## 2 - Regularized Logistic Regression ##\n",
        "### 2.1 - Data Preparation\n",
        "\n",
        "Prepare the data for regression task. **(5 Points)**\n",
        "\n",
        "**Tasks:**\n",
        "1. Load data for logistic regression.\n",
        "2. Generate the scatter plot of the data.\n",
        "\n",
        "**Hints:**\n",
        "1. The data file is \"data_reg_logistic.csv\".\n",
        "2. The data is organized by columns with : x1, x2 and label y.\n",
        "3. Try different scatter styles for postive(label=1) and negative(label=0) data.\n",
        "4. An example of scatter plots is shown below. Obviously, it is difficult to obtain a accurate linear boundary.\n",
        "![mxplusc](data_plots_2.png)"
      ]
    },
    {
      "cell_type": "code",
      "metadata": {
        "id": "nTsOzmuQsiHM",
        "outputId": "0d983734-cba4-4a6a-f945-eaa9dfc8d4e8",
        "colab": {
          "base_uri": "https://localhost:8080/",
          "height": 279
        }
      },
      "source": [
        "# Preprocess input data and generate plots\n",
        "data = pd.read_csv('data_reg_logistic.csv')\n",
        "\n",
        "# Here we are separating the data from 'data_logistic.csv' (which is stored in our data variable)\n",
        "# into our 'x1', 'x2', and 'y' variables\n",
        "x1 = np.array(data.iloc[:, 0])\n",
        "x2 = np.array(data.iloc[:, 1])\n",
        "y = np.array(data.iloc[:, 2])\n",
        "# This holds the amount of observations in our dataset\n",
        "m = len(y)\n",
        "\n",
        "# Create a scatter plot using our variables, then display it\n",
        "def plot_sec2_graph(x1, x2, y):\n",
        "  for i in range (len(x1)):\n",
        "    if y[i] == 0:\n",
        "      plt.scatter(x1[i], x2[i], c = 'green', marker = 'o', label = 'Negative')\n",
        "    else:\n",
        "      plt.scatter(x1[i], x2[i], c = 'black', marker = '+', label = 'Positive')\n",
        "\n",
        "  handles, labels = plt.gca().get_legend_handles_labels()\n",
        "  by_label = dict(zip(labels, handles))\n",
        "\n",
        "  plt.legend(by_label.values(), by_label.keys(), loc='upper right')\n",
        "  plt.xlabel('x1')\n",
        "  plt.ylabel('x2')\n",
        "  plt.show()\n",
        "  \n",
        "plot_sec2_graph(x1, x2, y)"
      ],
      "execution_count": null,
      "outputs": [
        {
          "output_type": "display_data",
          "data": {
            "image/png": "[encoded data removed]",
            "text/plain": [
              "<Figure size 432x288 with 1 Axes>"
            ]
          },
          "metadata": {
            "tags": [],
            "needs_background": "light"
          }
        }
      ]
    },
    {
      "cell_type": "markdown",
      "metadata": {
        "id": "1MimU4O0siHO"
      },
      "source": [
        "### 2.2 - Feature Mapping\n",
        "\n",
        "To obtain nonlinear boundary, we map the features into higher dimension.  **(5 Points)**\n",
        "\n",
        "**Tasks:**\n",
        "1. Map the 2-dimension features into all polynomial terms of x1 and x2 up to the 6th power.\n",
        "\n",
        "**Hints:**\n",
        "1. Mapping rule is similar to projection function which encodes input variables to new values. The example below shows input x will be encoded to a vector.\n",
        "![mxplusc](map_feature.png)\n",
        "2. Try the template below to implement your function: \n",
        "\n",
        "    def mapFeatures(data, degrees=6):\n",
        "        for i in all degrees\n",
        "            for j from 0 to i+1\n",
        "                X = X.append(X1^(i-j) * X2^j) /* Check the polynomial kernel function format. Consider np.hstack function.\n",
        "        return X\n",
        "\n",
        "3. Validation for mapFeature(np.array([[0,1]])) is \\\n",
        "[[1. 0. 1. 0. 0. 1. 0. 0. 0. 1. 0. 0. 0. 0. 1. 0. 0. 0. 0. 0. 1. 0. 0. 0. 0. 0. 0. 1.]]"
      ]
    },
    {
      "cell_type": "code",
      "metadata": {
        "id": "s5XRNOmWsiHP",
        "outputId": "20e90834-787e-437f-95f5-a904a039aad7",
        "colab": {
          "base_uri": "https://localhost:8080/",
          "height": 255
        }
      },
      "source": [
        "# Mapping fuction here: def mapFeatures(data, degree):\n",
        "\n",
        "def mapFeature(data, degrees=6):\n",
        "  x1 = data[:,0]\n",
        "  x2 = data[:,1]\n",
        "  m = len(np.atleast_1d(x1))\n",
        "  X = np.ones((m, 1))\n",
        "  for ii in range(1, degrees+1):\n",
        "    for jj in range(0,ii+1):\n",
        "      X = np.hstack((X, (x1**(ii-jj) * x2**jj).reshape(m,1)))\n",
        "  return X\n",
        "\n",
        "X = data.to_numpy()[:, :2]\n",
        "test = np.array([[0,1]])\n",
        "print(mapFeature(test).shape)\n",
        "X = np.array(mapFeature(X))\n",
        "print(X)"
      ],
      "execution_count": null,
      "outputs": [
        {
          "output_type": "stream",
          "text": [
            "(1, 28)\n",
            "[[ 1.00000000e+00  5.12670000e-02  6.99560000e-01 ...  6.29470940e-04\n",
            "   8.58939846e-03  1.17205992e-01]\n",
            " [ 1.00000000e+00 -9.27420000e-02  6.84940000e-01 ...  1.89305413e-03\n",
            "  -1.39810280e-02  1.03255971e-01]\n",
            " [ 1.00000000e+00 -2.13710000e-01  6.92250000e-01 ...  1.04882142e-02\n",
            "  -3.39734512e-02  1.10046893e-01]\n",
            " ...\n",
            " [ 1.00000000e+00 -4.84450000e-01  9.99270000e-01 ...  2.34007252e-01\n",
            "  -4.82684337e-01  9.95627986e-01]\n",
            " [ 1.00000000e+00 -6.33640000e-03  9.99270000e-01 ...  4.00328554e-05\n",
            "  -6.31330588e-03  9.95627986e-01]\n",
            " [ 1.00000000e+00  6.32650000e-01 -3.06120000e-02 ...  3.51474517e-07\n",
            "  -1.70067777e-08  8.22905998e-10]]\n"
          ],
          "name": "stdout"
        }
      ]
    },
    {
      "cell_type": "markdown",
      "metadata": {
        "id": "i91wlaJAsiHS"
      },
      "source": [
        "### 2.3 - Cost function and gradient\n",
        "\n",
        "Implement the cost function and gradient for regularized logistic regression. **(20 Points)**\n",
        "\n",
        "**Tasks:**\n",
        "1. Implement the \"cal_reg_cost\" to compute the cost.\n",
        "2. Implement the \"cal_reg_grad\" to compute the gradients.\n",
        "3. Test the the two functions with initial values.\n",
        "\n",
        "**Hint:**\n",
        "1. The regularized cost function in logistic regression is similar to the previous one, but with a regularization term. \n",
        "![mxplusc](equation_J_reg.png)\n",
        "2. The gradient of the cost is a vector of the same length as θ where the $j$th element (for $j = 0, 1, . . . , n)$ is defined as follows. Here, the first constant term will not be regularized. The reason could be found in *The Elements of Statistical Learning by Hastie et al. (P.63-64)* if you are curious.\n",
        "![mxplusc](equation_theta_reg.jpg)\n",
        "![mxplusc](equation_theta_reg_2.jpg)\n",
        "3. Use eps = 1e-15 to prevent divide by 0 exception. Set regularization parameter **lam** to **1**\n",
        "4. You may consider the below templates for two functions:\n",
        "\n",
        "    def cal_reg_cost(theta, X, y, lam):\n",
        "        htheta = ...\n",
        "        term1 = ...\n",
        "        term2 = ...\n",
        "        term3 =  ...\n",
        "        J = - 1 / m * (term1 + term2 - term3) \n",
        "        \n",
        "        return cost\n",
        "    \n",
        "    def cal_reg_grad(theta, X, y, lam):\n",
        "    \n",
        "        htheta = ...\n",
        "        term1 = ...\n",
        "        term2 = ...\n",
        "        grad = 1 / m * (term1 + term2)\n",
        "    \n",
        "        return grad\n",
        "    \n",
        "\n",
        "5. Initialize the intercept term with **ones** and theta with **zeros**. Test the functions with initial values.\n",
        "\n",
        "  **Validation**: \\\n",
        "  Cost at initial theta : 0.6931471805599442 \\\n",
        "  Gradient at inital theta : \\\n",
        "  [0.05    &nbsp;   0.03146256 &nbsp; 0.03589577 &nbsp;0.06512186 &nbsp;0.01044212\\\n",
        "  0.05812127 &nbsp; 0.02379224 &nbsp; 0.01121763 &nbsp; 0.01050091 &nbsp; 0.04185155\\\n",
        "  0.04795375 &nbsp; 0.00272593 &nbsp; 0.01551233 &nbsp; 0.00339255 &nbsp; 0.05331224\\\n",
        "  0.02385013 &nbsp; 0.00614284 &nbsp; 0.00382781 &nbsp; 0.00746595 &nbsp; 0.00566102\\\n",
        "  0.043769   &nbsp; 0.03690049 &nbsp; 0.00163929 &nbsp; 0.00723665 &nbsp; 0.00091111\\\n",
        "  0.00827412 &nbsp; 0.0017557  &nbsp; 0.05035145]"
      ]
    },
    {
      "cell_type": "code",
      "metadata": {
        "id": "QRnf26kUsiHS",
        "outputId": "42fee13e-03a0-4da8-8c2d-fb28cc0e448d",
        "colab": {
          "base_uri": "https://localhost:8080/",
          "height": 136
        }
      },
      "source": [
        "# Implement the cost function here\n",
        "\n",
        "# cost function\n",
        "def cal_reg_cost(theta, X, y, lam):\n",
        "  # compute the hypothesis\n",
        "  htheta = np.array(sigmoid(np.dot(theta, X.transpose())))\n",
        "  # compute J in three terms\n",
        "  term1 = np.dot(np.log(htheta), y)\n",
        "  term2 = np.dot(np.log(1 - htheta + 1e-15), (1 - y))\n",
        "  term3 =  lam / (2*m) * np.dot(theta, theta)\n",
        "  J = -1 / m * (term1 + term2)\n",
        "  J = J + term3\n",
        "  # J = -1 / m * (term1 + term2 - term3)\n",
        "  return J\n",
        "\n",
        "############################################\n",
        "def cal_reg_grad(theta, X, y, lam):\n",
        "  # compute the hypothesis\n",
        "  htheta = np.array(sigmoid(np.dot(theta, X.transpose())))\n",
        "  term1 = np.dot(X.transpose(), (htheta - y))\n",
        "  term2 = lam * theta\n",
        "  # gradient\n",
        "  grad = 1 / m * (term1 + term2)\n",
        "  return grad\n",
        "    \n",
        "lam = 1\n",
        "theta = np.zeros(X.shape[1])\n",
        "\n",
        "# Calculate the cost at the initial theta\n",
        "J = cal_reg_cost(theta, X, y, lam)\n",
        "\n",
        "# Calculate the gradient at the intial theta\n",
        "grad = np.array(cal_reg_grad(theta, X, y, lam))\n",
        "\n",
        "print ('Cost at initial theta: {0}'.format(J))\n",
        "print ('Gradient at inital theta:\\n {0}'.format(grad))"
      ],
      "execution_count": null,
      "outputs": [
        {
          "output_type": "stream",
          "text": [
            "Cost at initial theta: 0.6931471805599441\n",
            "Gradient at inital theta:\n",
            " [0.05       0.03146256 0.03589577 0.06512186 0.01044212 0.05812127\n",
            " 0.02379224 0.01121763 0.01050091 0.04185155 0.04795375 0.00272593\n",
            " 0.01551233 0.00339255 0.05331224 0.02385013 0.00614284 0.00382781\n",
            " 0.00746595 0.00566102 0.043769   0.03690049 0.00163929 0.00723665\n",
            " 0.00091111 0.00827412 0.0017557  0.05035145]\n"
          ],
          "name": "stdout"
        }
      ]
    },
    {
      "cell_type": "markdown",
      "metadata": {
        "id": "unAnPwGcsiHU"
      },
      "source": [
        "## 2.4 Train parameters with Gradient Descent ##\n",
        "\n",
        "\n",
        "Train parameters with Gradient Descent. **(10 Points)**\n",
        "\n",
        "**Tasks:**\n",
        "1. Implement GD function to optimize parameters.\n",
        "2. Print out the best theta (the last one is considered as the best here) and its corresponding cost.\n",
        "3. Plot the decision boundary.\n",
        "\n",
        "**Hints:**\n",
        "1. Calculate best fit theta by Gradient Descent with learning rate of **0.001**, epoch of **800K**, and lambda **1**. The initial theta from above blocks is used as initial values.\n",
        "2. Validation results for first 3 epochs:\\\n",
        "------Epoch 0------\\\n",
        "Best fit theta: \\\n",
        "[-5.00000000e-05 -3.14625580e-05 -3.58957700e-05 -6.51218577e-05\n",
        " -1.04421167e-05 -5.81212666e-05 -2.37922390e-05 -1.12176321e-05\n",
        " -1.05009072e-05 -4.18515520e-05 -4.79537494e-05 -2.72592921e-06\n",
        " -1.55123328e-05 -3.39254609e-06 -5.33122440e-05 -2.38501348e-05\n",
        " -6.14284478e-06 -3.82780648e-06 -7.46594607e-06 -5.66102417e-06\n",
        " -4.37690001e-05 -3.69004876e-05 -1.63928681e-06 -7.23665148e-06\n",
        " -9.11107182e-07 -8.27412363e-06 -1.75570322e-06 -5.03514495e-05]\\\n",
        "Cost function at best fit theta: 0.6931200736183647\\\n",
        "------Epoch 1------\\\n",
        "Best fit theta:\\\n",
        "[-9.99660872e-05 -6.29180045e-05 -7.17762192e-05 -1.30232876e-04\n",
        " -2.08833542e-05 -1.16226611e-04 -4.75791514e-05 -2.24326894e-05\n",
        " -2.10002834e-05 -8.36911234e-05 -9.59008610e-05 -5.45120938e-06\n",
        " -3.10221132e-05 -6.78469307e-06 -1.06612424e-04 -4.76958444e-05\n",
        " -1.22845790e-05 -7.65483587e-06 -1.49304702e-05 -1.13213871e-05\n",
        " -8.75273807e-05 -7.37959678e-05 -3.27810252e-06 -1.44722935e-05\n",
        " -1.82196550e-06 -1.65468641e-05 -3.51116570e-06 -1.00692168e-04]\\\n",
        "Cost function at best fit theta: 0.6930929809256421\\\n",
        "------Epoch 2------\\\n",
        "Best fit theta: \\\n",
        "[-1.49898275e-04 -9.43663412e-05 -1.07641353e-04 -1.95333057e-04\n",
        " -3.13237127e-05 -1.74316038e-04 -7.13607385e-05 -3.36451729e-05\n",
        " -3.14981290e-05 -1.25518718e-04 -1.43841337e-04 -8.17584068e-06\n",
        " -4.65293421e-05 -1.01764410e-05 -1.59900545e-04 -7.15371301e-05\n",
        " -1.84252031e-05 -1.14810884e-05 -2.23935728e-05 -1.69810890e-05\n",
        " -1.31275145e-04 -1.10686442e-04 -4.91644726e-06 -2.17069264e-05\n",
        " -2.73257501e-06 -2.48182220e-05 -5.26638746e-06 -1.51022159e-04]\\\n",
        "Cost function at best fit theta: 0.6930659024719215\n",
        "\n",
        "3. Decision boundary result may look like the one below. You may consider plt.contour. https://matplotlib.org/3.3.1/api/_as_gen/matplotlib.pyplot.contour.html\n",
        "![mxplusc](decision_boundary.png)\n",
        "4. It may take ~1 min to finish running."
      ]
    },
    {
      "cell_type": "code",
      "metadata": {
        "id": "2VfvXx-NsiHV",
        "outputId": "e5045a73-a107-486e-9d57-027bdc8dd862",
        "colab": {
          "base_uri": "https://localhost:8080/",
          "height": 153
        }
      },
      "source": [
        "# Learning and plot here\n",
        "\n",
        "def gradient_descent(epochs, theta, X, y, lam, L):\n",
        "  for i in range(epochs):\n",
        "    newTheta = cal_reg_grad(theta, X, y, lam)\n",
        "    for j in range(len(newTheta)):\n",
        "      theta[j] = theta[j] - L*newTheta[j]\n",
        "  return theta\n",
        "\n",
        "# The learning rate for our model\n",
        "L = 0.001\n",
        "# The number of iterations to perform gradient descent\n",
        "epochs = 800000\n",
        "# Our initial Lambda for the model\n",
        "lam = 1\n",
        "\n",
        "# Start the gradient_descent\n",
        "theta = gradient_descent(epochs, theta, X, y, lam, L)\n",
        "\n",
        "print ('Best fit theta: {0}'.format(theta))\n",
        "print ('Cost function at best fit theta: {0}'.format(cal_reg_cost(theta, X, y, lam)))"
      ],
      "execution_count": null,
      "outputs": [
        {
          "output_type": "stream",
          "text": [
            "Best fit theta: [ 1.04794000e+00  3.04971879e-01  7.12268272e-01 -1.91716437e+00\n",
            " -5.43893614e-01 -1.15993656e+00  1.72275964e-01 -2.38668991e-01\n",
            " -3.48061051e-01 -2.46845552e-01 -1.37196650e+00  8.54382019e-05\n",
            " -5.20064441e-01 -1.54571060e-01 -1.10134856e+00 -1.43822803e-01\n",
            " -1.66619316e-01 -1.24448801e-02 -2.14468800e-01 -2.68102419e-01\n",
            " -4.80805828e-01 -9.50796424e-01  3.07078301e-02 -2.42873019e-01\n",
            "  1.09306553e-02 -2.58057132e-01 -8.17932113e-02 -9.31763057e-01]\n",
            "Cost function at best fit theta: 0.5287298984787983\n"
          ],
          "name": "stdout"
        }
      ]
    },
    {
      "cell_type": "code",
      "metadata": {
        "id": "3DVs6PsXsiHZ",
        "outputId": "a60e9434-3ea9-4b79-ae70-3e20a1cfe4cd",
        "colab": {
          "base_uri": "https://localhost:8080/",
          "height": 283
        }
      },
      "source": [
        "# Plot Boundary Contour Here\n",
        "len_of_theta = len(theta)\n",
        "\n",
        "x_plot = np.linspace(-1.0, 1.5, len_of_theta)\n",
        "y_plot = np.linspace(-1.0, 1.5, len_of_theta)\n",
        "\n",
        "Z = np.ndarray((len_of_theta, len_of_theta))\n",
        "\n",
        "for i in range(len_of_theta):\n",
        "  for j in range(len_of_theta):\n",
        "    point = np.column_stack((x_plot[i], y_plot[j]))\n",
        "    pred = np.sum(sigmoid(np.dot(theta, mapFeature(point).T)))\n",
        "    Z[i][j] = pred\n",
        "\n",
        "plt.contour(x_plot, y_plot, Z.T, [0.5])\n",
        "plot_sec2_graph(x1, x2, y)"
      ],
      "execution_count": null,
      "outputs": [
        {
          "output_type": "display_data",
          "data": {
            "image/png": "[encoded data removed]",
            "text/plain": [
              "<Figure size 432x288 with 1 Axes>"
            ]
          },
          "metadata": {
            "tags": [],
            "needs_background": "light"
          }
        }
      ]
    },
    {
      "cell_type": "markdown",
      "metadata": {
        "id": "XslRNu7ysiHc"
      },
      "source": [
        "## 2.5 Varying the Regularization parameter ##\n",
        "\n",
        "\n",
        "Modifying the value of regularization term lambda to see how the decision boundry changes. **(10 Points)**\n",
        "\n",
        "**Tasks:**\n",
        "1. Set lambda to be different values (0.01, 1, 10, 20) and plot the results.\n",
        "2. Print out the best lambda and the corresponding training accuracy.\n",
        "\n",
        "**Hints:**\n",
        "1. With the developed functions above, specify varying lambda values\n",
        "2. Initial thetas are the same.\n",
        "3. When lams = [0.01, 1, 10 , 20], you may obtain the similar plots below.\n",
        "![mxplusc](decision_boundary_set.png)\n",
        "4. It may take 3~4 mins to finish running."
      ]
    },
    {
      "cell_type": "code",
      "metadata": {
        "id": "Ya9ufi47siHc",
        "outputId": "a8bf9ad4-573f-4967-8dfe-cc26da2cdac2",
        "colab": {
          "base_uri": "https://localhost:8080/",
          "height": 1000
        }
      },
      "source": [
        "#Varying the Regularization parameter\n",
        "\n",
        "# A helper function to plot the resulting graphs\n",
        "def plot_results(theta, x1, x2):\n",
        "  len_of_theta = len(theta)\n",
        "\n",
        "  x_plot = np.linspace(-1.0, 1.5, len_of_theta)\n",
        "  y_plot = np.linspace(-1.0, 1.5, len_of_theta)\n",
        "\n",
        "  Z = np.ndarray((len_of_theta, len_of_theta))\n",
        "\n",
        "  for i in range(len_of_theta):\n",
        "    for j in range(len_of_theta):\n",
        "      point = np.column_stack((x_plot[i], y_plot[j]))\n",
        "      pred = np.sum(sigmoid(np.dot(theta, mapFeature(point).T)))\n",
        "      Z[i][j] = pred\n",
        "  \n",
        "  plt.contour(x_plot, y_plot, Z.T, [0.5])\n",
        "  plot_sec2_graph(x1, x2, y)\n",
        "\n",
        "# A helper function to calculate the accuract of the varying lambdas\n",
        "def calc_accuracy(theta, X, y):\n",
        "  y_pred = np.array(sigmoid(np.dot(theta, X.transpose())))\n",
        "  correct = 0\n",
        "\n",
        "  for i in range(len(y_pred)):\n",
        "    if y_pred[i] > 0.5 and y[i] == 1:\n",
        "      correct = correct + 1\n",
        "    elif y_pred[i] <= 0.5 and y[i] == 0:\n",
        "      correct = correct + 1\n",
        "    else:\n",
        "      continue\n",
        "\n",
        "  return correct / m * 100\n",
        "\n",
        "lams = [0.01, 1, 10, 20]\n",
        "best_acc = 0\n",
        "best_lam = -1\n",
        "new_acc = 0\n",
        "\n",
        "for ct, lam in enumerate(lams):\n",
        "  X = data.to_numpy()[:, :2]\n",
        "  X = mapFeature(X)\n",
        "  theta = np.zeros(X.shape[1])\n",
        "  theta = gradient_descent(800000, theta, X, y, lam, L)\n",
        "  new_acc = calc_accuracy(theta, X, y)\n",
        "  if new_acc > best_acc:\n",
        "    best_acc = new_acc\n",
        "    best_lam = lam\n",
        "  plot_results(theta, x1, x2)\n",
        "\n",
        "print('best acc',best_acc)\n",
        "print('best lam',best_lam)\n"
      ],
      "execution_count": null,
      "outputs": [
        {
          "output_type": "display_data",
          "data": {
            "image/png": "[encoded data removed]",
            "text/plain": [
              "<Figure size 432x288 with 1 Axes>"
            ]
          },
          "metadata": {
            "tags": [],
            "needs_background": "light"
          }
        },
        {
          "output_type": "display_data",
          "data": {
            "image/png": "[encoded data removed]",
            "text/plain": [
              "<Figure size 432x288 with 1 Axes>"
            ]
          },
          "metadata": {
            "tags": [],
            "needs_background": "light"
          }
        },
        {
          "output_type": "display_data",
          "data": {
            "image/png": "[encoded data removed]",
            "text/plain": [
              "<Figure size 432x288 with 1 Axes>"
            ]
          },
          "metadata": {
            "tags": [],
            "needs_background": "light"
          }
        },
        {
          "output_type": "display_data",
          "data": {
            "image/png": "[encoded data removed]",
            "text/plain": [
              "<Figure size 432x288 with 1 Axes>"
            ]
          },
          "metadata": {
            "tags": [],
            "needs_background": "light"
          }
        },
        {
          "output_type": "stream",
          "text": [
            "best acc 81.0\n",
            "best lam 1\n"
          ],
          "name": "stdout"
        }
      ]
    },
    {
      "cell_type": "code",
      "metadata": {
        "id": "qoG6C_dTsiHe"
      },
      "source": [
        ""
      ],
      "execution_count": null,
      "outputs": []
    }
  ]
}